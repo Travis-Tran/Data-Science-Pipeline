{
 "cells": [
  {
   "cell_type": "markdown",
   "metadata": {},
   "source": [
    "The data is downloadable [here](https://engineering.purdue.edu/LASCI/research-data/outages/outagerisks).\n",
    "\n",
    "A data dictionary is available at this [article](https://www.sciencedirect.com/science/article/pii/S2352340918307182) under *Table 1. Variable descriptions*."
   ]
  },
  {
   "cell_type": "markdown",
   "metadata": {},
   "source": [
    "# Summary of Findings\n",
    "\n",
    "### Introduction\n",
    "- There is an outages dataset with region, timing, causality... etc.\n",
    "\n",
    "### Cleaning and EDA\n",
    "Cleaning: \n",
    "- First, we removed the row 'units' and put it into a dictionary with keys being the column title and the value as the corresponding unit. We removed the the units row completely from the dataframe. Then, we removed the rows and columns with completely empty values then set the column name to the appropriate title. There were two main columns (CUSTOMERS.AFFECTED, OUTAGE.DURATION) we were considering when considering EDA and hypothesis test, so we imputed the null values assuming NERC.REGION is MAR for both columns (because regional facilities are most likely a factor on how many people in that region is affected and how long the outage is solved.) with the grouped mean. Later, we combined date and time columns into one and dropped the excess. \n",
    "\n",
    "EDA\n",
    "- While we were exploring the columns of the data we found a really interesting statistic that one category was dominating one column more than the other categories within that column and then we decided to look more into what were the differences between this category than the others on what kind of outages were being caused. However, we changed the topics a bit to include more of the data so we compared the causes of outages with the type of outages they were causing, the regular outages and our criteria of more severe outages.\n",
    "\n",
    "### Assessment of Missingness\n",
    "- First, we determine the NMAR of the columns we chose. To see the missingness of columns, we took two categorical columns with non trivial missing values and utilized TVDS permutation test to determine the conditonality. Took column OUTAGE.RESTORATION compared to CUSTOMER.GROUP(self created) to see its missingness, we found that it is not conditional. Took column CLIMATE.CATEGORY compared to CAUSE.CATEGORY to see its missingness, we found that it is conditional.\n",
    "\n",
    "### Hypothesis Test\n",
    "\n",
    "- For our null hypothesis, we said that CAUSE.CATEGORY did not have a direct affect on whether or not a more severe outage would occur. While the alternate hypothesis, was that CAUSE.CATEGORY did have a direct affect on whether or not a more severe outage would occur. We tested this by calculating the TVD of the CAUSE.CATEGORY, since it is a categorical variable, with whether the outage is severe or not. In the end, we rejected the null hypothesis the p-value basically stated that it is impossible to get the observed test statistic."
   ]
  },
  {
   "cell_type": "code",
   "execution_count": 20,
   "metadata": {},
   "outputs": [],
   "source": [
    "import matplotlib.pyplot as plt\n",
    "import numpy as np\n",
    "import os\n",
    "import pandas as pd\n",
    "import seaborn as sns\n",
    "%matplotlib inline\n",
    "%config InlineBackend.figure_format = 'retina'  # Higher resolution figures\n",
    "\n",
    "from datetime import datetime\n",
    "from datetime import timedelta\n",
    "from dateutil.parser import parse\n",
    "\n",
    "from scipy.stats import ks_2samp"
   ]
  },
  {
   "cell_type": "markdown",
   "metadata": {},
   "source": [
    "### Cleaning"
   ]
  },
  {
   "cell_type": "code",
   "execution_count": 21,
   "metadata": {},
   "outputs": [],
   "source": [
    "outages = pd.read_excel('outage.xlsx')"
   ]
  },
  {
   "cell_type": "markdown",
   "metadata": {},
   "source": [
    "In units, I pulled out the unit of each column title, so if you have any question on what the unit of each column is,\n",
    "type in the name of the column into the key of dictionary and the value will tell you"
   ]
  },
  {
   "cell_type": "code",
   "execution_count": 22,
   "metadata": {},
   "outputs": [],
   "source": [
    "#Getting units for each column\n",
    "units = {k:v for (k,v) in zip(outages.iloc[4].values, outages.iloc[5].values)}"
   ]
  },
  {
   "cell_type": "markdown",
   "metadata": {},
   "source": [
    "In the cell below, I dropped the rows and columns with no values and set the column title with appropriate row. In the EDA and our hypothesis test we will have specific concern over the column CUSTOMERS.AFFECTED and OUTAGE.DURATION, so we filled the nan value with relevant numbers."
   ]
  },
  {
   "cell_type": "code",
   "execution_count": 23,
   "metadata": {},
   "outputs": [],
   "source": [
    "#Cleaning of the data\n",
    "outages.columns = outages.iloc[4].values # setting column name to the correct row\n",
    "outages_cleaned = outages.drop([0,1,2,3,4,5]) #dropped empty rows that holds no value or data\n",
    "outages_cleaned = outages_cleaned.reset_index(drop = True) #resetting index for clarity\n",
    "\n",
    "#dropping column with number of observations and 'variables that holds no meaning as a column\n",
    "outages_cleaned = outages_cleaned.drop(columns = ['OBS','variables']) \n",
    "\n",
    "# fillna CUSTOMERS.AFFECTED with mean of grouped NER.REGION mean due to MAR between two columns\n",
    "outages_cleaned['CUSTOMERS.AFFECTED'] = outages_cleaned['CUSTOMERS.AFFECTED'].astype(float)\n",
    "region_grouped_cust_mean = outages_cleaned.groupby('NERC.REGION')['CUSTOMERS.AFFECTED'].transform(np.mean)\n",
    "outages_cleaned['CUSTOMERS.AFFECTED'] = outages_cleaned['CUSTOMERS.AFFECTED'].fillna(region_grouped_cust_mean)\n",
    "\n",
    "# fillna OUTAGE.DURATION with mean of grouped NER.REGION mean due to MAR between two columns\n",
    "outages_cleaned['OUTAGE.DURATION'] = outages_cleaned['OUTAGE.DURATION'].fillna(-1)\n",
    "outages_cleaned['OUTAGE.DURATION'] = outages_cleaned['OUTAGE.DURATION'].astype(float)\n",
    "region_grouped_rest_dur_mean = outages_cleaned.groupby('NERC.REGION')['OUTAGE.DURATION'].transform(np.mean)\n",
    "outages_cleaned['OUTAGE.DURATION'] = outages_cleaned['OUTAGE.DURATION'].fillna(region_grouped_rest_dur_mean)\n"
   ]
  },
  {
   "cell_type": "markdown",
   "metadata": {},
   "source": [
    "Created a combine_date_time as a helper to merge the date and time columns from OUTAGE.START and OUTAGE.RESTORATION"
   ]
  },
  {
   "cell_type": "code",
   "execution_count": 24,
   "metadata": {},
   "outputs": [],
   "source": [
    "def combine_date_time(df, date, time):\n",
    "    \"\"\" A helper function used to combine date and time through\n",
    "    the use of apply\n",
    "    \"\"\"\n",
    "    if not pd.isnull(df[date]) and not pd.isnull(df[time]):\n",
    "        return datetime.strptime((str(df[date])[:-8] + str(df[time])), '%Y-%m-%d %H:%M:%S')"
   ]
  },
  {
   "cell_type": "code",
   "execution_count": 25,
   "metadata": {},
   "outputs": [
    {
     "data": {
      "text/html": [
       "<div>\n",
       "<style scoped>\n",
       "    .dataframe tbody tr th:only-of-type {\n",
       "        vertical-align: middle;\n",
       "    }\n",
       "\n",
       "    .dataframe tbody tr th {\n",
       "        vertical-align: top;\n",
       "    }\n",
       "\n",
       "    .dataframe thead th {\n",
       "        text-align: right;\n",
       "    }\n",
       "</style>\n",
       "<table border=\"1\" class=\"dataframe\">\n",
       "  <thead>\n",
       "    <tr style=\"text-align: right;\">\n",
       "      <th></th>\n",
       "      <th>YEAR</th>\n",
       "      <th>MONTH</th>\n",
       "      <th>U.S._STATE</th>\n",
       "      <th>POSTAL.CODE</th>\n",
       "      <th>NERC.REGION</th>\n",
       "      <th>CLIMATE.REGION</th>\n",
       "      <th>ANOMALY.LEVEL</th>\n",
       "      <th>CLIMATE.CATEGORY</th>\n",
       "      <th>CAUSE.CATEGORY</th>\n",
       "      <th>CAUSE.CATEGORY.DETAIL</th>\n",
       "      <th>...</th>\n",
       "      <th>POPDEN_URBAN</th>\n",
       "      <th>POPDEN_UC</th>\n",
       "      <th>POPDEN_RURAL</th>\n",
       "      <th>AREAPCT_URBAN</th>\n",
       "      <th>AREAPCT_UC</th>\n",
       "      <th>PCT_LAND</th>\n",
       "      <th>PCT_WATER_TOT</th>\n",
       "      <th>PCT_WATER_INLAND</th>\n",
       "      <th>OUTAGE.START</th>\n",
       "      <th>OUTAGE.RESTORATION</th>\n",
       "    </tr>\n",
       "  </thead>\n",
       "  <tbody>\n",
       "    <tr>\n",
       "      <td>0</td>\n",
       "      <td>2011</td>\n",
       "      <td>7</td>\n",
       "      <td>Minnesota</td>\n",
       "      <td>MN</td>\n",
       "      <td>MRO</td>\n",
       "      <td>East North Central</td>\n",
       "      <td>-0.3</td>\n",
       "      <td>normal</td>\n",
       "      <td>severe weather</td>\n",
       "      <td>NaN</td>\n",
       "      <td>...</td>\n",
       "      <td>2279</td>\n",
       "      <td>1700.5</td>\n",
       "      <td>18.2</td>\n",
       "      <td>2.14</td>\n",
       "      <td>0.6</td>\n",
       "      <td>91.5927</td>\n",
       "      <td>8.40733</td>\n",
       "      <td>5.47874</td>\n",
       "      <td>2011-07-01 17:00:00</td>\n",
       "      <td>2011-07-03 20:00:00</td>\n",
       "    </tr>\n",
       "    <tr>\n",
       "      <td>1</td>\n",
       "      <td>2014</td>\n",
       "      <td>5</td>\n",
       "      <td>Minnesota</td>\n",
       "      <td>MN</td>\n",
       "      <td>MRO</td>\n",
       "      <td>East North Central</td>\n",
       "      <td>-0.1</td>\n",
       "      <td>normal</td>\n",
       "      <td>intentional attack</td>\n",
       "      <td>vandalism</td>\n",
       "      <td>...</td>\n",
       "      <td>2279</td>\n",
       "      <td>1700.5</td>\n",
       "      <td>18.2</td>\n",
       "      <td>2.14</td>\n",
       "      <td>0.6</td>\n",
       "      <td>91.5927</td>\n",
       "      <td>8.40733</td>\n",
       "      <td>5.47874</td>\n",
       "      <td>2014-05-11 18:38:00</td>\n",
       "      <td>2014-05-11 18:39:00</td>\n",
       "    </tr>\n",
       "    <tr>\n",
       "      <td>2</td>\n",
       "      <td>2010</td>\n",
       "      <td>10</td>\n",
       "      <td>Minnesota</td>\n",
       "      <td>MN</td>\n",
       "      <td>MRO</td>\n",
       "      <td>East North Central</td>\n",
       "      <td>-1.5</td>\n",
       "      <td>cold</td>\n",
       "      <td>severe weather</td>\n",
       "      <td>heavy wind</td>\n",
       "      <td>...</td>\n",
       "      <td>2279</td>\n",
       "      <td>1700.5</td>\n",
       "      <td>18.2</td>\n",
       "      <td>2.14</td>\n",
       "      <td>0.6</td>\n",
       "      <td>91.5927</td>\n",
       "      <td>8.40733</td>\n",
       "      <td>5.47874</td>\n",
       "      <td>2010-10-26 20:00:00</td>\n",
       "      <td>2010-10-28 22:00:00</td>\n",
       "    </tr>\n",
       "    <tr>\n",
       "      <td>3</td>\n",
       "      <td>2012</td>\n",
       "      <td>6</td>\n",
       "      <td>Minnesota</td>\n",
       "      <td>MN</td>\n",
       "      <td>MRO</td>\n",
       "      <td>East North Central</td>\n",
       "      <td>-0.1</td>\n",
       "      <td>normal</td>\n",
       "      <td>severe weather</td>\n",
       "      <td>thunderstorm</td>\n",
       "      <td>...</td>\n",
       "      <td>2279</td>\n",
       "      <td>1700.5</td>\n",
       "      <td>18.2</td>\n",
       "      <td>2.14</td>\n",
       "      <td>0.6</td>\n",
       "      <td>91.5927</td>\n",
       "      <td>8.40733</td>\n",
       "      <td>5.47874</td>\n",
       "      <td>2012-06-19 04:30:00</td>\n",
       "      <td>2012-06-20 23:00:00</td>\n",
       "    </tr>\n",
       "    <tr>\n",
       "      <td>4</td>\n",
       "      <td>2015</td>\n",
       "      <td>7</td>\n",
       "      <td>Minnesota</td>\n",
       "      <td>MN</td>\n",
       "      <td>MRO</td>\n",
       "      <td>East North Central</td>\n",
       "      <td>1.2</td>\n",
       "      <td>warm</td>\n",
       "      <td>severe weather</td>\n",
       "      <td>NaN</td>\n",
       "      <td>...</td>\n",
       "      <td>2279</td>\n",
       "      <td>1700.5</td>\n",
       "      <td>18.2</td>\n",
       "      <td>2.14</td>\n",
       "      <td>0.6</td>\n",
       "      <td>91.5927</td>\n",
       "      <td>8.40733</td>\n",
       "      <td>5.47874</td>\n",
       "      <td>2015-07-18 02:00:00</td>\n",
       "      <td>2015-07-19 07:00:00</td>\n",
       "    </tr>\n",
       "  </tbody>\n",
       "</table>\n",
       "<p>5 rows × 53 columns</p>\n",
       "</div>"
      ],
      "text/plain": [
       "   YEAR MONTH U.S._STATE POSTAL.CODE NERC.REGION      CLIMATE.REGION  \\\n",
       "0  2011     7  Minnesota          MN         MRO  East North Central   \n",
       "1  2014     5  Minnesota          MN         MRO  East North Central   \n",
       "2  2010    10  Minnesota          MN         MRO  East North Central   \n",
       "3  2012     6  Minnesota          MN         MRO  East North Central   \n",
       "4  2015     7  Minnesota          MN         MRO  East North Central   \n",
       "\n",
       "  ANOMALY.LEVEL CLIMATE.CATEGORY      CAUSE.CATEGORY CAUSE.CATEGORY.DETAIL  \\\n",
       "0          -0.3           normal      severe weather                   NaN   \n",
       "1          -0.1           normal  intentional attack             vandalism   \n",
       "2          -1.5             cold      severe weather            heavy wind   \n",
       "3          -0.1           normal      severe weather          thunderstorm   \n",
       "4           1.2             warm      severe weather                   NaN   \n",
       "\n",
       "   ... POPDEN_URBAN  POPDEN_UC POPDEN_RURAL  AREAPCT_URBAN AREAPCT_UC  \\\n",
       "0  ...         2279     1700.5         18.2           2.14        0.6   \n",
       "1  ...         2279     1700.5         18.2           2.14        0.6   \n",
       "2  ...         2279     1700.5         18.2           2.14        0.6   \n",
       "3  ...         2279     1700.5         18.2           2.14        0.6   \n",
       "4  ...         2279     1700.5         18.2           2.14        0.6   \n",
       "\n",
       "  PCT_LAND PCT_WATER_TOT PCT_WATER_INLAND        OUTAGE.START  \\\n",
       "0  91.5927       8.40733          5.47874 2011-07-01 17:00:00   \n",
       "1  91.5927       8.40733          5.47874 2014-05-11 18:38:00   \n",
       "2  91.5927       8.40733          5.47874 2010-10-26 20:00:00   \n",
       "3  91.5927       8.40733          5.47874 2012-06-19 04:30:00   \n",
       "4  91.5927       8.40733          5.47874 2015-07-18 02:00:00   \n",
       "\n",
       "   OUTAGE.RESTORATION  \n",
       "0 2011-07-03 20:00:00  \n",
       "1 2014-05-11 18:39:00  \n",
       "2 2010-10-28 22:00:00  \n",
       "3 2012-06-20 23:00:00  \n",
       "4 2015-07-19 07:00:00  \n",
       "\n",
       "[5 rows x 53 columns]"
      ]
     },
     "execution_count": 25,
     "metadata": {},
     "output_type": "execute_result"
    }
   ],
   "source": [
    "#applying the helper function to combine date and time\n",
    "outages_cleaned['OUTAGE.START'] = outages_cleaned.apply(combine_date_time, args =('OUTAGE.START.DATE', 'OUTAGE.START.TIME'), axis = 1)\n",
    "outages_cleaned['OUTAGE.RESTORATION'] = outages_cleaned.apply(combine_date_time, args =('OUTAGE.RESTORATION.DATE', 'OUTAGE.RESTORATION.TIME'), axis = 1)\n",
    "\n",
    "#dropping date and time column because we have them combined already\n",
    "outages_cleaned = outages_cleaned.drop(columns = ['OUTAGE.START.DATE', 'OUTAGE.START.TIME','OUTAGE.RESTORATION.DATE', 'OUTAGE.RESTORATION.TIME'])\n",
    "outages_cleaned.head()"
   ]
  },
  {
   "cell_type": "markdown",
   "metadata": {},
   "source": [
    "### EDA"
   ]
  },
  {
   "cell_type": "markdown",
   "metadata": {},
   "source": [
    "Helper function for our new column severe_outage that includes more than 1000 people affected and more than 60 minutes during the power outage"
   ]
  },
  {
   "cell_type": "code",
   "execution_count": 26,
   "metadata": {},
   "outputs": [],
   "source": [
    "def severe_outage(df):\n",
    "    if (df[\"CUSTOMERS.AFFECTED\"] >= 1000):\n",
    "        if (df[\"OUTAGE.DURATION\"] >= 60):\n",
    "            if (df['OUTAGE.RESTORATION'] - df['OUTAGE.START']) > timedelta(1):\n",
    "                return True\n",
    "    else:\n",
    "        return False"
   ]
  },
  {
   "cell_type": "code",
   "execution_count": 31,
   "metadata": {},
   "outputs": [
    {
     "data": {
      "text/html": [
       "<div>\n",
       "<style scoped>\n",
       "    .dataframe tbody tr th:only-of-type {\n",
       "        vertical-align: middle;\n",
       "    }\n",
       "\n",
       "    .dataframe tbody tr th {\n",
       "        vertical-align: top;\n",
       "    }\n",
       "\n",
       "    .dataframe thead th {\n",
       "        text-align: right;\n",
       "    }\n",
       "</style>\n",
       "<table border=\"1\" class=\"dataframe\">\n",
       "  <thead>\n",
       "    <tr style=\"text-align: right;\">\n",
       "      <th></th>\n",
       "      <th>YEAR</th>\n",
       "      <th>MONTH</th>\n",
       "      <th>U.S._STATE</th>\n",
       "      <th>POSTAL.CODE</th>\n",
       "      <th>NERC.REGION</th>\n",
       "      <th>CLIMATE.REGION</th>\n",
       "      <th>ANOMALY.LEVEL</th>\n",
       "      <th>CLIMATE.CATEGORY</th>\n",
       "      <th>CAUSE.CATEGORY</th>\n",
       "      <th>CAUSE.CATEGORY.DETAIL</th>\n",
       "      <th>...</th>\n",
       "      <th>POPDEN_UC</th>\n",
       "      <th>POPDEN_RURAL</th>\n",
       "      <th>AREAPCT_URBAN</th>\n",
       "      <th>AREAPCT_UC</th>\n",
       "      <th>PCT_LAND</th>\n",
       "      <th>PCT_WATER_TOT</th>\n",
       "      <th>PCT_WATER_INLAND</th>\n",
       "      <th>OUTAGE.START</th>\n",
       "      <th>OUTAGE.RESTORATION</th>\n",
       "      <th>SEVERE_OUTAGE</th>\n",
       "    </tr>\n",
       "  </thead>\n",
       "  <tbody>\n",
       "    <tr>\n",
       "      <td>0</td>\n",
       "      <td>2011</td>\n",
       "      <td>7</td>\n",
       "      <td>Minnesota</td>\n",
       "      <td>MN</td>\n",
       "      <td>MRO</td>\n",
       "      <td>East North Central</td>\n",
       "      <td>-0.3</td>\n",
       "      <td>normal</td>\n",
       "      <td>severe weather</td>\n",
       "      <td>NaN</td>\n",
       "      <td>...</td>\n",
       "      <td>1700.5</td>\n",
       "      <td>18.2</td>\n",
       "      <td>2.14</td>\n",
       "      <td>0.6</td>\n",
       "      <td>91.5927</td>\n",
       "      <td>8.40733</td>\n",
       "      <td>5.47874</td>\n",
       "      <td>2011-07-01 17:00:00</td>\n",
       "      <td>2011-07-03 20:00:00</td>\n",
       "      <td>True</td>\n",
       "    </tr>\n",
       "    <tr>\n",
       "      <td>1</td>\n",
       "      <td>2014</td>\n",
       "      <td>5</td>\n",
       "      <td>Minnesota</td>\n",
       "      <td>MN</td>\n",
       "      <td>MRO</td>\n",
       "      <td>East North Central</td>\n",
       "      <td>-0.1</td>\n",
       "      <td>normal</td>\n",
       "      <td>intentional attack</td>\n",
       "      <td>vandalism</td>\n",
       "      <td>...</td>\n",
       "      <td>1700.5</td>\n",
       "      <td>18.2</td>\n",
       "      <td>2.14</td>\n",
       "      <td>0.6</td>\n",
       "      <td>91.5927</td>\n",
       "      <td>8.40733</td>\n",
       "      <td>5.47874</td>\n",
       "      <td>2014-05-11 18:38:00</td>\n",
       "      <td>2014-05-11 18:39:00</td>\n",
       "      <td>None</td>\n",
       "    </tr>\n",
       "    <tr>\n",
       "      <td>2</td>\n",
       "      <td>2010</td>\n",
       "      <td>10</td>\n",
       "      <td>Minnesota</td>\n",
       "      <td>MN</td>\n",
       "      <td>MRO</td>\n",
       "      <td>East North Central</td>\n",
       "      <td>-1.5</td>\n",
       "      <td>cold</td>\n",
       "      <td>severe weather</td>\n",
       "      <td>heavy wind</td>\n",
       "      <td>...</td>\n",
       "      <td>1700.5</td>\n",
       "      <td>18.2</td>\n",
       "      <td>2.14</td>\n",
       "      <td>0.6</td>\n",
       "      <td>91.5927</td>\n",
       "      <td>8.40733</td>\n",
       "      <td>5.47874</td>\n",
       "      <td>2010-10-26 20:00:00</td>\n",
       "      <td>2010-10-28 22:00:00</td>\n",
       "      <td>True</td>\n",
       "    </tr>\n",
       "    <tr>\n",
       "      <td>3</td>\n",
       "      <td>2012</td>\n",
       "      <td>6</td>\n",
       "      <td>Minnesota</td>\n",
       "      <td>MN</td>\n",
       "      <td>MRO</td>\n",
       "      <td>East North Central</td>\n",
       "      <td>-0.1</td>\n",
       "      <td>normal</td>\n",
       "      <td>severe weather</td>\n",
       "      <td>thunderstorm</td>\n",
       "      <td>...</td>\n",
       "      <td>1700.5</td>\n",
       "      <td>18.2</td>\n",
       "      <td>2.14</td>\n",
       "      <td>0.6</td>\n",
       "      <td>91.5927</td>\n",
       "      <td>8.40733</td>\n",
       "      <td>5.47874</td>\n",
       "      <td>2012-06-19 04:30:00</td>\n",
       "      <td>2012-06-20 23:00:00</td>\n",
       "      <td>True</td>\n",
       "    </tr>\n",
       "    <tr>\n",
       "      <td>4</td>\n",
       "      <td>2015</td>\n",
       "      <td>7</td>\n",
       "      <td>Minnesota</td>\n",
       "      <td>MN</td>\n",
       "      <td>MRO</td>\n",
       "      <td>East North Central</td>\n",
       "      <td>1.2</td>\n",
       "      <td>warm</td>\n",
       "      <td>severe weather</td>\n",
       "      <td>NaN</td>\n",
       "      <td>...</td>\n",
       "      <td>1700.5</td>\n",
       "      <td>18.2</td>\n",
       "      <td>2.14</td>\n",
       "      <td>0.6</td>\n",
       "      <td>91.5927</td>\n",
       "      <td>8.40733</td>\n",
       "      <td>5.47874</td>\n",
       "      <td>2015-07-18 02:00:00</td>\n",
       "      <td>2015-07-19 07:00:00</td>\n",
       "      <td>True</td>\n",
       "    </tr>\n",
       "  </tbody>\n",
       "</table>\n",
       "<p>5 rows × 54 columns</p>\n",
       "</div>"
      ],
      "text/plain": [
       "   YEAR MONTH U.S._STATE POSTAL.CODE NERC.REGION      CLIMATE.REGION  \\\n",
       "0  2011     7  Minnesota          MN         MRO  East North Central   \n",
       "1  2014     5  Minnesota          MN         MRO  East North Central   \n",
       "2  2010    10  Minnesota          MN         MRO  East North Central   \n",
       "3  2012     6  Minnesota          MN         MRO  East North Central   \n",
       "4  2015     7  Minnesota          MN         MRO  East North Central   \n",
       "\n",
       "  ANOMALY.LEVEL CLIMATE.CATEGORY      CAUSE.CATEGORY CAUSE.CATEGORY.DETAIL  \\\n",
       "0          -0.3           normal      severe weather                   NaN   \n",
       "1          -0.1           normal  intentional attack             vandalism   \n",
       "2          -1.5             cold      severe weather            heavy wind   \n",
       "3          -0.1           normal      severe weather          thunderstorm   \n",
       "4           1.2             warm      severe weather                   NaN   \n",
       "\n",
       "   ... POPDEN_UC  POPDEN_RURAL AREAPCT_URBAN  AREAPCT_UC PCT_LAND  \\\n",
       "0  ...    1700.5          18.2          2.14         0.6  91.5927   \n",
       "1  ...    1700.5          18.2          2.14         0.6  91.5927   \n",
       "2  ...    1700.5          18.2          2.14         0.6  91.5927   \n",
       "3  ...    1700.5          18.2          2.14         0.6  91.5927   \n",
       "4  ...    1700.5          18.2          2.14         0.6  91.5927   \n",
       "\n",
       "  PCT_WATER_TOT PCT_WATER_INLAND        OUTAGE.START  OUTAGE.RESTORATION  \\\n",
       "0       8.40733          5.47874 2011-07-01 17:00:00 2011-07-03 20:00:00   \n",
       "1       8.40733          5.47874 2014-05-11 18:38:00 2014-05-11 18:39:00   \n",
       "2       8.40733          5.47874 2010-10-26 20:00:00 2010-10-28 22:00:00   \n",
       "3       8.40733          5.47874 2012-06-19 04:30:00 2012-06-20 23:00:00   \n",
       "4       8.40733          5.47874 2015-07-18 02:00:00 2015-07-19 07:00:00   \n",
       "\n",
       "  SEVERE_OUTAGE  \n",
       "0          True  \n",
       "1          None  \n",
       "2          True  \n",
       "3          True  \n",
       "4          True  \n",
       "\n",
       "[5 rows x 54 columns]"
      ]
     },
     "execution_count": 31,
     "metadata": {},
     "output_type": "execute_result"
    }
   ],
   "source": [
    "outages_cleaned[\"SEVERE_OUTAGE\"] = outages_cleaned.apply(severe_outage, axis = 1)\n",
    "outages_cleaned.head()"
   ]
  },
  {
   "cell_type": "code",
   "execution_count": 32,
   "metadata": {},
   "outputs": [],
   "source": [
    "outages_cleaned[\"SEVERE_OUTAGE\"] = outages_cleaned[\"SEVERE_OUTAGE\"].replace({None:False})"
   ]
  },
  {
   "cell_type": "markdown",
   "metadata": {},
   "source": [
    "Interesting Aggregates(For the Interesting Aggregates, while we were exploring our data we discovered that some categories had a higher chance of being a more severe outage than others, so in order to prove that we created a whole new set of criteria for how a severe outage is and in that process we discovered a vast amount of one CAUSE.CATEGORY creating more severe outages than the others,and decided to explore more into this statistic)"
   ]
  },
  {
   "cell_type": "code",
   "execution_count": 35,
   "metadata": {},
   "outputs": [
    {
     "data": {
      "text/html": [
       "<div>\n",
       "<style scoped>\n",
       "    .dataframe tbody tr th:only-of-type {\n",
       "        vertical-align: middle;\n",
       "    }\n",
       "\n",
       "    .dataframe tbody tr th {\n",
       "        vertical-align: top;\n",
       "    }\n",
       "\n",
       "    .dataframe thead th {\n",
       "        text-align: right;\n",
       "    }\n",
       "</style>\n",
       "<table border=\"1\" class=\"dataframe\">\n",
       "  <thead>\n",
       "    <tr style=\"text-align: right;\">\n",
       "      <th></th>\n",
       "      <th>SEVERE_OUTAGE</th>\n",
       "    </tr>\n",
       "    <tr>\n",
       "      <th>CAUSE.CATEGORY</th>\n",
       "      <th></th>\n",
       "    </tr>\n",
       "  </thead>\n",
       "  <tbody>\n",
       "    <tr>\n",
       "      <td>equipment failure</td>\n",
       "      <td>2.0</td>\n",
       "    </tr>\n",
       "    <tr>\n",
       "      <td>fuel supply emergency</td>\n",
       "      <td>20.0</td>\n",
       "    </tr>\n",
       "    <tr>\n",
       "      <td>intentional attack</td>\n",
       "      <td>18.0</td>\n",
       "    </tr>\n",
       "    <tr>\n",
       "      <td>islanding</td>\n",
       "      <td>0.0</td>\n",
       "    </tr>\n",
       "    <tr>\n",
       "      <td>public appeal</td>\n",
       "      <td>16.0</td>\n",
       "    </tr>\n",
       "    <tr>\n",
       "      <td>severe weather</td>\n",
       "      <td>466.0</td>\n",
       "    </tr>\n",
       "    <tr>\n",
       "      <td>system operability disruption</td>\n",
       "      <td>15.0</td>\n",
       "    </tr>\n",
       "  </tbody>\n",
       "</table>\n",
       "</div>"
      ],
      "text/plain": [
       "                               SEVERE_OUTAGE\n",
       "CAUSE.CATEGORY                              \n",
       "equipment failure                        2.0\n",
       "fuel supply emergency                   20.0\n",
       "intentional attack                      18.0\n",
       "islanding                                0.0\n",
       "public appeal                           16.0\n",
       "severe weather                         466.0\n",
       "system operability disruption           15.0"
      ]
     },
     "metadata": {},
     "output_type": "display_data"
    }
   ],
   "source": [
    "#Interesting Aggregates\n",
    "distr = outages_cleaned.pivot_table(index = 'CAUSE.CATEGORY', values = 'SEVERE_OUTAGE', aggfunc = 'sum')\n",
    "display(distr)"
   ]
  },
  {
   "cell_type": "markdown",
   "metadata": {},
   "source": [
    "Bivariate Analysis(For the Bivariate Analysis, we dove deeper into the interesting aggregates took the data of all the outages and found the number of times each CAUSE.CATEGORY appeared and divided it with the CAUSE.CATEGORY for the outages that we classified as severe outages, and that gives us each time a CAUSE.CATEGORY appears what is the percent chance it will be a severe outage)"
   ]
  },
  {
   "cell_type": "code",
   "execution_count": 39,
   "metadata": {},
   "outputs": [
    {
     "data": {
      "text/plain": [
       "<matplotlib.axes._subplots.AxesSubplot at 0x1e67a879c08>"
      ]
     },
     "execution_count": 39,
     "metadata": {},
     "output_type": "execute_result"
    },
    {
     "data": {
      "image/png": "[encoded data removed]",
      "text/plain": [
       "<Figure size 432x288 with 1 Axes>"
      ]
     },
     "metadata": {
      "image/png": {
       "height": 398,
       "width": 372
      },
      "needs_background": "light"
     },
     "output_type": "display_data"
    }
   ],
   "source": [
    "#Bivariate Analysis\n",
    "(distr['SEVERE_OUTAGE']/outages_cleaned['CAUSE.CATEGORY'].value_counts().sort_index()).plot(kind = 'bar')"
   ]
  },
  {
   "cell_type": "markdown",
   "metadata": {},
   "source": [
    "Univariate Analysis(Our Univariate analysis, shows that of all the causes of outages that severe weather is what caused the most outages, we choose to go deeper into what is the difference between the types of outages caused by the different categories and see if there are any major differences)"
   ]
  },
  {
   "cell_type": "code",
   "execution_count": 40,
   "metadata": {},
   "outputs": [
    {
     "data": {
      "text/plain": [
       "count               1534\n",
       "unique                 7\n",
       "top       severe weather\n",
       "freq                 763\n",
       "Name: CAUSE.CATEGORY, dtype: object"
      ]
     },
     "execution_count": 40,
     "metadata": {},
     "output_type": "execute_result"
    }
   ],
   "source": [
    "#Univariate Analysis\n",
    "outages_cleaned['CAUSE.CATEGORY'].describe()"
   ]
  },
  {
   "cell_type": "markdown",
   "metadata": {},
   "source": [
    "### Assessment of Missingness"
   ]
  },
  {
   "cell_type": "markdown",
   "metadata": {},
   "source": [
    "The two columns we considered: CUSTOMER.GROUP and CLIMATE.CATEGORY. For CUSTOMER.GROUP, it will not have any missing values becuase it is a column we created from CUSTOMERS.AFFECTED. In CUSTOMERS.AFFECTED we imputed the value with the grouped mean. It will not be NMAR. For CLIMATE.CATEGORY, it is possible the value is NMAR because the data creator did not know the temperature, but that argument is not convincing, so we performed and the permutation test and discovered it is dependent on other column.\n",
    "\n",
    "Is the missingness of RESTORATION.TIME is conditional to CUSTOMER.GROUP? (Not Dependent)\n",
    "\n",
    "CUSTOMER.GROUP is a column of Boolean values that has 'greater' for the amount of people affected from power outage greater or equal to 1000, 'lesser' for those who have less than 1000 affected people"
   ]
  },
  {
   "cell_type": "code",
   "execution_count": 41,
   "metadata": {},
   "outputs": [
    {
     "data": {
      "text/plain": [
       "0.03450612092327819"
      ]
     },
     "execution_count": 41,
     "metadata": {},
     "output_type": "execute_result"
    }
   ],
   "source": [
    "#creating a new column of two groups that have greater or less than 1000 affected people\n",
    "outages_cleaned['CUSTOMER.GROUP'] = (outages_cleaned['CUSTOMERS.AFFECTED'] >= 1000).replace(True, 'greater').replace(False, 'lesser')\n",
    "outages_cleaned = outages_cleaned.assign(is_null = outages_cleaned['OUTAGE.RESTORATION'].isnull())\n",
    "\n",
    "#find observed tvd between OUTAGE.RESTORATION's missingness and CUSTOMER.GROUP\n",
    "emp_distributions = outages_cleaned.pivot_table(columns = 'is_null', index = 'CUSTOMER.GROUP', aggfunc = 'size').fillna(0).apply(lambda x: x/x.sum())\n",
    "observed_tvd = np.sum(np.abs(emp_distributions.diff(axis=1).iloc[:,-1])) /2\n",
    "observed_tvd"
   ]
  },
  {
   "cell_type": "markdown",
   "metadata": {},
   "source": [
    "Perform tvds permutation test because CUSTOMER.GROUP is a categorical data with counts of True and False as values"
   ]
  },
  {
   "cell_type": "code",
   "execution_count": 42,
   "metadata": {},
   "outputs": [],
   "source": [
    "#tvds permutation test of 1000 times\n",
    "n_repetitions = 1000\n",
    "\n",
    "# ks_list = []\n",
    "tvds = []\n",
    "for _ in range(n_repetitions):\n",
    "    \n",
    "    # shuffle the gender column\n",
    "    shuffled_col = (\n",
    "        outages_cleaned['CUSTOMER.GROUP']\n",
    "        .sample(replace=False, frac=1)\n",
    "        .reset_index(drop=True)\n",
    "    )\n",
    "    \n",
    "    # put them in a table\n",
    "    shuffled = (\n",
    "        outages_cleaned\n",
    "        .assign(**{\n",
    "            'shuff': shuffled_col,\n",
    "        })\n",
    "    )\n",
    "    \n",
    "    # compute the tvd\n",
    "    shuffed_emp_distributions = (\n",
    "        shuffled\n",
    "        .pivot_table(columns='is_null', index='shuff', values=None, aggfunc='size')\n",
    "        .fillna(0)\n",
    "        .apply(lambda x:x/x.sum())\n",
    "    )\n",
    "    \n",
    "    tvd = np.sum(np.abs(shuffed_emp_distributions.diff(axis=1).iloc[:,-1])) / 2\n",
    "    # add it to the list of results\n",
    "    \n",
    "    tvds.append(tvd)"
   ]
  },
  {
   "cell_type": "code",
   "execution_count": 43,
   "metadata": {},
   "outputs": [
    {
     "data": {
      "text/plain": [
       "0.584"
      ]
     },
     "execution_count": 43,
     "metadata": {},
     "output_type": "execute_result"
    }
   ],
   "source": [
    "pval = np.mean(pd.Series(tvds) >= observed_tvd)\n",
    "pval"
   ]
  },
  {
   "cell_type": "markdown",
   "metadata": {},
   "source": [
    "At 5 percent test statistic. No, the missingness of RESTORATION.TIME is not conditional to CUSTOMER.GROUP. We observed the pval to be above 5 percent."
   ]
  },
  {
   "cell_type": "markdown",
   "metadata": {},
   "source": [
    "____________________________________________________________________________________"
   ]
  },
  {
   "cell_type": "markdown",
   "metadata": {},
   "source": [
    "Is the missingness of CLIMATE.CATEGORY conditional to CAUSE.CATEGORY? (Dependent)"
   ]
  },
  {
   "cell_type": "code",
   "execution_count": 44,
   "metadata": {},
   "outputs": [
    {
     "data": {
      "text/plain": [
       "0.40276867030965396"
      ]
     },
     "execution_count": 44,
     "metadata": {},
     "output_type": "execute_result"
    }
   ],
   "source": [
    "#created a column CLIMATE.CATEGORY_ISNULL to see the obeserved tvd of CLIMATE.CATEGORY's missingness\n",
    "#in conjunction of CAUSE.CATEGORY\n",
    "outages_cleaned['CLIMATE.CATEGORY_ISNULL'] = outages_cleaned['CLIMATE.CATEGORY'].isnull()\n",
    "emp_distributions = outages_cleaned.pivot_table(columns = 'CLIMATE.CATEGORY_ISNULL', index = 'CAUSE.CATEGORY', aggfunc = 'size').fillna(0).apply(lambda x: x/x.sum())\n",
    "\n",
    "observed_tvd = np.sum(np.abs(emp_distributions.diff(axis=1).iloc[:,-1])) /2\n",
    "observed_tvd"
   ]
  },
  {
   "cell_type": "markdown",
   "metadata": {},
   "source": [
    "Perform tvds permutation test because CAUSE.CATEGORY is a categorical data with counts of True and False as values"
   ]
  },
  {
   "cell_type": "code",
   "execution_count": 45,
   "metadata": {},
   "outputs": [],
   "source": [
    "n_repetitions = 1000\n",
    "\n",
    "tvds = []\n",
    "for _ in range(n_repetitions):\n",
    "    \n",
    "    # shuffle the gender column\n",
    "    shuffled_col = (\n",
    "        outages_cleaned['CAUSE.CATEGORY']\n",
    "        .sample(replace=False, frac=1)\n",
    "        .reset_index(drop=True)\n",
    "    )\n",
    "    \n",
    "    # put them in a table\n",
    "    shuffled = (\n",
    "        outages_cleaned\n",
    "        .assign(**{\n",
    "            'shuff': shuffled_col,\n",
    "        })\n",
    "    )\n",
    "    \n",
    "    # compute the tvd\n",
    "    shuffed_emp_distributions = (\n",
    "        shuffled\n",
    "        .pivot_table(columns='CLIMATE.CATEGORY_ISNULL', index='shuff', values=None, aggfunc='size')\n",
    "        .fillna(0)\n",
    "        .apply(lambda x:x/x.sum())\n",
    "    )\n",
    "    \n",
    "    tvd = np.sum(np.abs(shuffed_emp_distributions.diff(axis=1).iloc[:,-1])) / 2\n",
    "    # add it to the list of results\n",
    "    \n",
    "    tvds.append(tvd)"
   ]
  },
  {
   "cell_type": "code",
   "execution_count": null,
   "metadata": {},
   "outputs": [],
   "source": [
    "pval = np.mean(pd.Series(tvds) >= observed_tvd)\n",
    "pval"
   ]
  },
  {
   "cell_type": "markdown",
   "metadata": {},
   "source": [
    "At 5 percent test statistic. Yes, the missingness of CLIMATE.CATEGORY is conditional to CAUSE.CATEGORY. We observed the pval to be below 5 percent."
   ]
  },
  {
   "cell_type": "markdown",
   "metadata": {},
   "source": [
    "# Hypothesis Test"
   ]
  },
  {
   "cell_type": "markdown",
   "metadata": {},
   "source": [
    "Null hypothesis: The proportion of severity(determined by the criteria we set that more than a thousand customers be affected, the outage lasting more than an hour, and the outage start time and outage restoration time be separated by more than an day)is not determined by the CAUSE.CATEGORY.\n",
    "\n",
    "Alternate hypothesis: The portion of severity(determined by the criteria we set that more than a thousand customers be affected, the outage lasting more than an hour, and the outage start time and outage restoration time be separated by more than an day) is determined to CAUSE.CATEGORY\n",
    "\n",
    "Test-Statistic: Our test statistic, is the Total Variation Distance statistic, since for our hypothesis required analysis of a categorical variable, since TVD is the best choice for categorical variables we used TVD as our test statistic\n",
    "\n",
    "Significance level: For our significance level, we choose %5 because anything pass %5 reaches extremeness level therefore making %5 the default for most hypothesis.\n",
    "\n",
    "P-Value:For our p-value we got 0% after 1000 iterations, this means that it is extremely unlikely to the observed test statistic within the null hypothesis.\n",
    "\n",
    "Results: With the p-value so low, we reject the null hypothesis."
   ]
  },
  {
   "cell_type": "code",
   "execution_count": 49,
   "metadata": {},
   "outputs": [],
   "source": [
    "def tvd_of_groups(df):\n",
    "    df_copy = df[['SEVERE_OUTAGE', 'CAUSE.CATEGORY']].copy()\n",
    "    cnts = df_copy.pivot_table(index = 'SEVERE_OUTAGE', columns = 'CAUSE.CATEGORY', aggfunc = 'size').T.fillna(0)\n",
    "    distr = cnts.apply(lambda x: x/x.sum())\n",
    "    return distr.diff(axis = 1).iloc[:, -1].abs().sum()/2"
   ]
  },
  {
   "cell_type": "code",
   "execution_count": 50,
   "metadata": {},
   "outputs": [
    {
     "data": {
      "text/plain": [
       "0.5760409720782458"
      ]
     },
     "execution_count": 50,
     "metadata": {},
     "output_type": "execute_result"
    }
   ],
   "source": [
    "obs = tvd_of_groups(outages_cleaned)\n",
    "obs"
   ]
  },
  {
   "cell_type": "code",
   "execution_count": 52,
   "metadata": {},
   "outputs": [
    {
     "data": {
      "text/plain": [
       "0.0"
      ]
     },
     "execution_count": 52,
     "metadata": {},
     "output_type": "execute_result"
    },
    {
     "data": {
      "image/png": "[encoded data removed]",
      "text/plain": [
       "<Figure size 432x288 with 1 Axes>"
      ]
     },
     "metadata": {
      "image/png": {
       "height": 263,
       "width": 393
      },
      "needs_background": "light"
     },
     "output_type": "display_data"
    }
   ],
   "source": [
    "N = 1000\n",
    "tvds = []\n",
    "for _ in range(N):\n",
    "    out = outages_cleaned.copy()\n",
    "    s = out['SEVERE_OUTAGE'].sample(frac=1, replace=False).reset_index(drop=True)\n",
    "    shuffled = out.loc[:, ['SEVERE_OUTAGE']].assign(SEVERE_OUTAGE=s)\n",
    "    out[\"SEVERE_OUTAGE\"] = shuffled \n",
    "    tvds.append(tvd_of_groups(out))\n",
    "pd.Series(tvds).plot(kind = 'hist',title =\"Proportion of Severity Compared to Observed\")\n",
    "plt.scatter(obs, 0, color = 'red')\n",
    "\n",
    "tvds = pd.Series(tvds)\n",
    "pval = (tvds >= obs).sum() / N\n",
    "pval"
   ]
  },
  {
   "cell_type": "markdown",
   "metadata": {},
   "source": [
    "_________________________________________________________________________________________________________________________"
   ]
  },
  {
   "cell_type": "markdown",
   "metadata": {},
   "source": [
    "### Part 2"
   ]
  },
  {
   "cell_type": "markdown",
   "metadata": {},
   "source": [
    "# Summary of Findings\n",
    "- LinearSVC Classification\n",
    "- Accuracy score\n",
    "\n",
    "### Introduction\n",
    "Our group decided to predict the the number of major outages in the year 2020. Since, we do not currently have the data for outages in 2020, we will build and test the model on all the previous years to determine its accuracy.\n",
    "\n",
    "### Baseline Model\n",
    "For our baseline model, we decided to take the columns 'Year', 'Month', 'U.S._STATE', 'CAUSE.CATEGORY', 'CUSTOMERS.AFFECTED', 'OUTAGE.DURATION', 'POPULATION', and 'SEVERE_OUTAGE'. We have 2 ordinal, 2 nominal, and 4 quantitative variables. We had to take Year because since it is required to predict the year 2020. Then Month and U.S._STATE we needed so we could predict the different trends that occur during outages, like the different seasons per months and the different weather that occurs per state. Finally, 'CAUSE.CATEGORY', 'CUSTOMERS.AFFECTED', 'OUTAGE.DURATION', 'POPULATION', and 'SEVERE_OUTAGE' were also taken so order to help perdict which outages would be major. For our prediction, we one hot encoded the columns 'U.S._STATE' and 'CAUSE.CATEGORY' which are both categorical, and we did this to remove all the categorical values from the data set to get a better prediction. We chose to use LinearSVC classifiers,because LinearSVC fit our nontext model.\n",
    "\n",
    "### Final Model\n",
    "For our baseline model, We decided improve the prediction by adding more features, like grouping the month into the seasons in order to find any trends in the outages with the seasons. Another is grouping the causes into category of natural cause and human cause with True or False, which will again find any correlation between the outages and its cause. We also binned the data from the columns 'OUTAGE.DURATION' and \"POPULATION\" in order to minimize the effect of outlines on the final prediction. Finally, we added Binarizer to the pipeline to cut off at 1000 for \"CUSTOMERS.AFFECTED\" since that is our cutoff value for evaluating if an outage is major or not. The end result of these improvements is that we improved the baseline prediction by 12% in the final model.\n",
    "\n",
    "### Fairness Evaluation\n",
    "For fairness evaluation we seperated the data into two seperate group of before(exclusive) 2012 and after(inclusive) 2012 as observed groups.\n",
    "- We utlized linearSVC.score as our parity measure because it return the mean accuracy on the given test data and labels\n",
    "1. We performed the final model on both of the observed and took the difference between two values as observed statistic. (diff_acc_between_two_groups)\n",
    "2. We shuffled the CUSTOMERS.AFFECTED column for both groups, then we performed the final model on both the groups. Afterward, we took the difference the outputted values. (diff_acc_between_two_groups_shuff)\n",
    "3. We then observed the p-values by comparing the difference of the observed and shuffled accuracy value.\n",
    "#### We found the p-value to be 0.22 for 100 iteration, therefore fail to reject null hypothesis of the final model is fair"
   ]
  },
  {
   "cell_type": "code",
   "execution_count": 54,
   "metadata": {},
   "outputs": [],
   "source": [
    "import matplotlib.pyplot as plt\n",
    "import numpy as np\n",
    "import os\n",
    "import pandas as pd\n",
    "import seaborn as sns\n",
    "%matplotlib inline\n",
    "%config InlineBackend.figure_format = 'retina'  # Higher resolution figures\n",
    "\n",
    "from datetime import datetime\n",
    "from datetime import timedelta\n",
    "from dateutil.parser import parse\n",
    "\n",
    "from sklearn.svm import SVC\n",
    "from sklearn.svm import LinearSVC\n",
    "from sklearn.preprocessing import QuantileTransformer\n",
    "from sklearn.preprocessing import FunctionTransformer\n",
    "from sklearn.preprocessing import OneHotEncoder\n",
    "from sklearn.pipeline import Pipeline\n",
    "from sklearn.compose import ColumnTransformer\n",
    "\n",
    "from sklearn.model_selection import train_test_split\n",
    "import warnings\n",
    "warnings.simplefilter('ignore')\n",
    "from sklearn.preprocessing import Binarizer"
   ]
  },
  {
   "cell_type": "code",
   "execution_count": 55,
   "metadata": {},
   "outputs": [],
   "source": [
    "pd.set_option('display.max_columns', None)"
   ]
  },
  {
   "cell_type": "markdown",
   "metadata": {},
   "source": [
    "### Cleaning"
   ]
  },
  {
   "cell_type": "code",
   "execution_count": 56,
   "metadata": {},
   "outputs": [],
   "source": [
    "outages = pd.read_excel('outage.xlsx')"
   ]
  },
  {
   "cell_type": "markdown",
   "metadata": {},
   "source": [
    "In the cell below, I dropped the rows and columns with no values and set the column title with appropriate row."
   ]
  },
  {
   "cell_type": "code",
   "execution_count": 57,
   "metadata": {},
   "outputs": [],
   "source": [
    "#Cleaning of the data\n",
    "outages.columns = outages.iloc[4].values # setting column name to the correct row\n",
    "outages_cleaned = outages.drop([0,1,2,3,4,5]) #dropped empty rows that holds no value or data\n",
    "outages_cleaned = outages_cleaned.reset_index(drop = True) #resetting index for clarity\n",
    "\n",
    "#dropping column with number of observations and 'variables that holds no meaning as a column\n",
    "outages_cleaned = outages_cleaned.drop(columns = ['OBS','variables']) \n",
    "\n",
    "# fillna CUSTOMERS.AFFECTED with mean of grouped NER.REGION mean due to MAR between two columns\n",
    "outages_cleaned['CUSTOMERS.AFFECTED'] = outages_cleaned['CUSTOMERS.AFFECTED'].astype(float)\n",
    "region_grouped_cust_mean = outages_cleaned.groupby('NERC.REGION')['CUSTOMERS.AFFECTED'].transform(np.mean)\n",
    "outages_cleaned['CUSTOMERS.AFFECTED'] = outages_cleaned['CUSTOMERS.AFFECTED'].fillna(region_grouped_cust_mean)\n",
    "\n",
    "# fillna OUTAGE.DURATION with mean of grouped NER.REGION mean due to MAR between two columns\n",
    "outages_cleaned['OUTAGE.DURATION'] = outages_cleaned['OUTAGE.DURATION'].astype(float)"
   ]
  },
  {
   "cell_type": "markdown",
   "metadata": {},
   "source": [
    "We dropped the nan value in OUTAGE.DURATION becuase it would skew the data if we fill it with mean or proportion. We see the proportion of nan value in each state to see if we drop the value it would have a significant effect. We discover the proportion of nan value only represent maxium of less than FIVE precent of the data in each state with the exception of Alaska, where the nan value is presented one hundred percent of the time. We decided it would bemore accurate for the prediction to drop the Nan values instead of filling it."
   ]
  },
  {
   "cell_type": "code",
   "execution_count": 58,
   "metadata": {},
   "outputs": [
    {
     "data": {
      "text/plain": [
       "Alabama                 0.166667\n",
       "Alaska                  1.000000\n",
       "Arizona                 0.107143\n",
       "Arkansas                     NaN\n",
       "California              0.057143\n",
       "Colorado                0.066667\n",
       "Connecticut                  NaN\n",
       "Delaware                0.024390\n",
       "District of Columbia         NaN\n",
       "Florida                      NaN\n",
       "Georgia                      NaN\n",
       "Hawaii                       NaN\n",
       "Idaho                   0.111111\n",
       "Illinois                0.043478\n",
       "Indiana                 0.023256\n",
       "Iowa                         NaN\n",
       "Kansas                  0.222222\n",
       "Kentucky                     NaN\n",
       "Louisiana               0.050000\n",
       "Maine                   0.052632\n",
       "Maryland                     NaN\n",
       "Massachusetts                NaN\n",
       "Michigan                     NaN\n",
       "Minnesota                    NaN\n",
       "Mississippi                  NaN\n",
       "Missouri                0.117647\n",
       "Montana                      NaN\n",
       "Nebraska                     NaN\n",
       "Nevada                       NaN\n",
       "New Hampshire                NaN\n",
       "New Jersey              0.085714\n",
       "New Mexico                   NaN\n",
       "New York                0.014085\n",
       "North Carolina          0.025000\n",
       "North Dakota            0.500000\n",
       "Ohio                    0.023256\n",
       "Oklahoma                0.083333\n",
       "Oregon                  0.038462\n",
       "Pennsylvania                 NaN\n",
       "South Carolina               NaN\n",
       "South Dakota                 NaN\n",
       "Tennessee               0.088235\n",
       "Texas                   0.039370\n",
       "Utah                         NaN\n",
       "Vermont                      NaN\n",
       "Virginia                0.027027\n",
       "Washington              0.082474\n",
       "West Virginia                NaN\n",
       "Wisconsin               0.050000\n",
       "Wyoming                      NaN\n",
       "Name: U.S._STATE, dtype: float64"
      ]
     },
     "execution_count": 58,
     "metadata": {},
     "output_type": "execute_result"
    }
   ],
   "source": [
    "outages_cleaned[outages_cleaned['OUTAGE.DURATION'].isnull()]['U.S._STATE'].value_counts() / outages_cleaned['U.S._STATE'].value_counts()"
   ]
  },
  {
   "cell_type": "code",
   "execution_count": 59,
   "metadata": {},
   "outputs": [],
   "source": [
    "outages_cleaned = outages_cleaned[outages_cleaned['OUTAGE.DURATION'].notnull()].reset_index(drop = True)\n",
    "outages_cleaned = outages_cleaned[outages_cleaned['CUSTOMERS.AFFECTED'].notnull()].reset_index(drop = True)"
   ]
  },
  {
   "cell_type": "markdown",
   "metadata": {},
   "source": [
    "Helper function for our new column severe_outage that includes more than 1000 people affected and more than 60 minutes during the power outage"
   ]
  },
  {
   "cell_type": "code",
   "execution_count": 60,
   "metadata": {},
   "outputs": [],
   "source": [
    "def severe_outage(df):\n",
    "    if (df[\"CUSTOMERS.AFFECTED\"] >= 1000) and (df[\"OUTAGE.DURATION\"] >= 60):\n",
    "        return True\n",
    "    else:\n",
    "        return False"
   ]
  },
  {
   "cell_type": "code",
   "execution_count": 61,
   "metadata": {},
   "outputs": [
    {
     "data": {
      "text/plain": [
       "True     0.717288\n",
       "False    0.282712\n",
       "Name: SEVERE_OUTAGE, dtype: float64"
      ]
     },
     "execution_count": 61,
     "metadata": {},
     "output_type": "execute_result"
    }
   ],
   "source": [
    "outages_cleaned[\"SEVERE_OUTAGE\"] = outages_cleaned.apply(severe_outage, axis = 1)\n",
    "outages_cleaned[\"SEVERE_OUTAGE\"] = (outages_cleaned['SEVERE_OUTAGE'] == True)\n",
    "outages_cleaned['SEVERE_OUTAGE'].value_counts()/len(outages_cleaned)"
   ]
  },
  {
   "cell_type": "markdown",
   "metadata": {},
   "source": [
    "### Baseline Model"
   ]
  },
  {
   "cell_type": "markdown",
   "metadata": {},
   "source": [
    "We dropped any column we deemed as unnecessary and only kept columns we thought would be important in our final predictions"
   ]
  },
  {
   "cell_type": "code",
   "execution_count": 62,
   "metadata": {},
   "outputs": [
    {
     "data": {
      "text/html": [
       "<div>\n",
       "<style scoped>\n",
       "    .dataframe tbody tr th:only-of-type {\n",
       "        vertical-align: middle;\n",
       "    }\n",
       "\n",
       "    .dataframe tbody tr th {\n",
       "        vertical-align: top;\n",
       "    }\n",
       "\n",
       "    .dataframe thead th {\n",
       "        text-align: right;\n",
       "    }\n",
       "</style>\n",
       "<table border=\"1\" class=\"dataframe\">\n",
       "  <thead>\n",
       "    <tr style=\"text-align: right;\">\n",
       "      <th></th>\n",
       "      <th>YEAR</th>\n",
       "      <th>MONTH</th>\n",
       "      <th>U.S._STATE</th>\n",
       "      <th>CAUSE.CATEGORY</th>\n",
       "      <th>CUSTOMERS.AFFECTED</th>\n",
       "      <th>OUTAGE.DURATION</th>\n",
       "      <th>POPULATION</th>\n",
       "      <th>SEVERE_OUTAGE</th>\n",
       "    </tr>\n",
       "  </thead>\n",
       "  <tbody>\n",
       "    <tr>\n",
       "      <td>0</td>\n",
       "      <td>2011</td>\n",
       "      <td>7</td>\n",
       "      <td>Minnesota</td>\n",
       "      <td>severe weather</td>\n",
       "      <td>70000.000000</td>\n",
       "      <td>3060.0</td>\n",
       "      <td>5348119</td>\n",
       "      <td>True</td>\n",
       "    </tr>\n",
       "    <tr>\n",
       "      <td>1</td>\n",
       "      <td>2014</td>\n",
       "      <td>5</td>\n",
       "      <td>Minnesota</td>\n",
       "      <td>intentional attack</td>\n",
       "      <td>88984.965517</td>\n",
       "      <td>1.0</td>\n",
       "      <td>5457125</td>\n",
       "      <td>False</td>\n",
       "    </tr>\n",
       "    <tr>\n",
       "      <td>2</td>\n",
       "      <td>2010</td>\n",
       "      <td>10</td>\n",
       "      <td>Minnesota</td>\n",
       "      <td>severe weather</td>\n",
       "      <td>70000.000000</td>\n",
       "      <td>3000.0</td>\n",
       "      <td>5310903</td>\n",
       "      <td>True</td>\n",
       "    </tr>\n",
       "    <tr>\n",
       "      <td>3</td>\n",
       "      <td>2012</td>\n",
       "      <td>6</td>\n",
       "      <td>Minnesota</td>\n",
       "      <td>severe weather</td>\n",
       "      <td>68200.000000</td>\n",
       "      <td>2550.0</td>\n",
       "      <td>5380443</td>\n",
       "      <td>True</td>\n",
       "    </tr>\n",
       "    <tr>\n",
       "      <td>4</td>\n",
       "      <td>2015</td>\n",
       "      <td>7</td>\n",
       "      <td>Minnesota</td>\n",
       "      <td>severe weather</td>\n",
       "      <td>250000.000000</td>\n",
       "      <td>1740.0</td>\n",
       "      <td>5489594</td>\n",
       "      <td>True</td>\n",
       "    </tr>\n",
       "    <tr>\n",
       "      <td>...</td>\n",
       "      <td>...</td>\n",
       "      <td>...</td>\n",
       "      <td>...</td>\n",
       "      <td>...</td>\n",
       "      <td>...</td>\n",
       "      <td>...</td>\n",
       "      <td>...</td>\n",
       "      <td>...</td>\n",
       "    </tr>\n",
       "    <tr>\n",
       "      <td>1470</td>\n",
       "      <td>2016</td>\n",
       "      <td>3</td>\n",
       "      <td>Idaho</td>\n",
       "      <td>intentional attack</td>\n",
       "      <td>0.000000</td>\n",
       "      <td>0.0</td>\n",
       "      <td>1680026</td>\n",
       "      <td>False</td>\n",
       "    </tr>\n",
       "    <tr>\n",
       "      <td>1471</td>\n",
       "      <td>2016</td>\n",
       "      <td>7</td>\n",
       "      <td>Idaho</td>\n",
       "      <td>system operability disruption</td>\n",
       "      <td>133833.065306</td>\n",
       "      <td>220.0</td>\n",
       "      <td>1680026</td>\n",
       "      <td>True</td>\n",
       "    </tr>\n",
       "    <tr>\n",
       "      <td>1472</td>\n",
       "      <td>2011</td>\n",
       "      <td>12</td>\n",
       "      <td>North Dakota</td>\n",
       "      <td>public appeal</td>\n",
       "      <td>34500.000000</td>\n",
       "      <td>720.0</td>\n",
       "      <td>685326</td>\n",
       "      <td>True</td>\n",
       "    </tr>\n",
       "    <tr>\n",
       "      <td>1473</td>\n",
       "      <td>2009</td>\n",
       "      <td>8</td>\n",
       "      <td>South Dakota</td>\n",
       "      <td>islanding</td>\n",
       "      <td>127894.232092</td>\n",
       "      <td>59.0</td>\n",
       "      <td>807067</td>\n",
       "      <td>False</td>\n",
       "    </tr>\n",
       "    <tr>\n",
       "      <td>1474</td>\n",
       "      <td>2009</td>\n",
       "      <td>8</td>\n",
       "      <td>South Dakota</td>\n",
       "      <td>islanding</td>\n",
       "      <td>88984.965517</td>\n",
       "      <td>181.0</td>\n",
       "      <td>807067</td>\n",
       "      <td>True</td>\n",
       "    </tr>\n",
       "  </tbody>\n",
       "</table>\n",
       "<p>1475 rows × 8 columns</p>\n",
       "</div>"
      ],
      "text/plain": [
       "      YEAR MONTH    U.S._STATE                 CAUSE.CATEGORY  \\\n",
       "0     2011     7     Minnesota                 severe weather   \n",
       "1     2014     5     Minnesota             intentional attack   \n",
       "2     2010    10     Minnesota                 severe weather   \n",
       "3     2012     6     Minnesota                 severe weather   \n",
       "4     2015     7     Minnesota                 severe weather   \n",
       "...    ...   ...           ...                            ...   \n",
       "1470  2016     3         Idaho             intentional attack   \n",
       "1471  2016     7         Idaho  system operability disruption   \n",
       "1472  2011    12  North Dakota                  public appeal   \n",
       "1473  2009     8  South Dakota                      islanding   \n",
       "1474  2009     8  South Dakota                      islanding   \n",
       "\n",
       "      CUSTOMERS.AFFECTED  OUTAGE.DURATION POPULATION  SEVERE_OUTAGE  \n",
       "0           70000.000000           3060.0    5348119           True  \n",
       "1           88984.965517              1.0    5457125          False  \n",
       "2           70000.000000           3000.0    5310903           True  \n",
       "3           68200.000000           2550.0    5380443           True  \n",
       "4          250000.000000           1740.0    5489594           True  \n",
       "...                  ...              ...        ...            ...  \n",
       "1470            0.000000              0.0    1680026          False  \n",
       "1471       133833.065306            220.0    1680026           True  \n",
       "1472        34500.000000            720.0     685326           True  \n",
       "1473       127894.232092             59.0     807067          False  \n",
       "1474        88984.965517            181.0     807067           True  \n",
       "\n",
       "[1475 rows x 8 columns]"
      ]
     },
     "execution_count": 62,
     "metadata": {},
     "output_type": "execute_result"
    }
   ],
   "source": [
    "outages_for_model = outages_cleaned[['YEAR', 'MONTH','U.S._STATE','CAUSE.CATEGORY','CUSTOMERS.AFFECTED', 'OUTAGE.DURATION','POPULATION','SEVERE_OUTAGE']]\n",
    "outages_for_model"
   ]
  },
  {
   "cell_type": "markdown",
   "metadata": {},
   "source": [
    "We used OneHotEncoder for the baseline inorder to have no categorical variables left in the dataset. So we are predicting just based off of the quantitative data of this dataset."
   ]
  },
  {
   "cell_type": "code",
   "execution_count": 63,
   "metadata": {},
   "outputs": [
    {
     "data": {
      "text/plain": [
       "0.8284424379232506"
      ]
     },
     "execution_count": 63,
     "metadata": {},
     "output_type": "execute_result"
    }
   ],
   "source": [
    "preproc = ColumnTransformer(transformers=[('encode', OneHotEncoder(handle_unknown = 'ignore'),['U.S._STATE', 'CAUSE.CATEGORY']),\n",
    "                                         ])\n",
    "pl = Pipeline(steps = [('preprocessor',preproc), \n",
    "                       ('baseline classification', LinearSVC())])\n",
    "\n",
    "X = outages_for_model.drop(['SEVERE_OUTAGE'], axis = 1)\n",
    "y = outages_for_model.SEVERE_OUTAGE\n",
    "X_train, X_test, y_train, y_test = train_test_split(X, y, test_size=0.3)\n",
    "pl.fit(X_train, y_train)\n",
    "pl.predict(X_test).sum()\n",
    "pl.score(X_test, y_test)"
   ]
  },
  {
   "cell_type": "code",
   "execution_count": 64,
   "metadata": {},
   "outputs": [],
   "source": [
    "basic_score = []\n",
    "for i in range(100):\n",
    "    preproc = ColumnTransformer(transformers=[('encode', OneHotEncoder(handle_unknown = 'ignore'),['U.S._STATE', 'CAUSE.CATEGORY']),\n",
    "                                             ])\n",
    "\n",
    "    pl = Pipeline(steps = [('preprocessor',preproc), \n",
    "                           ('baseline classification', SVC())])\n",
    "\n",
    "    X = outages_for_model.drop(['SEVERE_OUTAGE'], axis = 1)\n",
    "    y = outages_for_model.SEVERE_OUTAGE\n",
    "    X_train, X_test, y_train, y_test = train_test_split(X, y, test_size=0.3)\n",
    "    pl.fit(X_train, y_train)\n",
    "    pl.predict(X_test).sum()\n",
    "    basic_score.append(pl.score(X_test, y_test))"
   ]
  },
  {
   "cell_type": "markdown",
   "metadata": {},
   "source": [
    "After 100 iterations of the predtictions, we were around 82% most of the time, which is pretty good for just our baseline prediction doing the bare minimum."
   ]
  },
  {
   "cell_type": "code",
   "execution_count": 65,
   "metadata": {},
   "outputs": [
    {
     "data": {
      "text/plain": [
       "0.8279006772009029"
      ]
     },
     "execution_count": 65,
     "metadata": {},
     "output_type": "execute_result"
    }
   ],
   "source": [
    "np.mean(basic_score)"
   ]
  },
  {
   "cell_type": "markdown",
   "metadata": {},
   "source": [
    "### Final Model\n"
   ]
  },
  {
   "cell_type": "code",
   "execution_count": 66,
   "metadata": {},
   "outputs": [
    {
     "data": {
      "text/html": [
       "<div>\n",
       "<style scoped>\n",
       "    .dataframe tbody tr th:only-of-type {\n",
       "        vertical-align: middle;\n",
       "    }\n",
       "\n",
       "    .dataframe tbody tr th {\n",
       "        vertical-align: top;\n",
       "    }\n",
       "\n",
       "    .dataframe thead th {\n",
       "        text-align: right;\n",
       "    }\n",
       "</style>\n",
       "<table border=\"1\" class=\"dataframe\">\n",
       "  <thead>\n",
       "    <tr style=\"text-align: right;\">\n",
       "      <th></th>\n",
       "      <th>YEAR</th>\n",
       "      <th>MONTH</th>\n",
       "      <th>U.S._STATE</th>\n",
       "      <th>CAUSE.CATEGORY</th>\n",
       "      <th>CUSTOMERS.AFFECTED</th>\n",
       "      <th>OUTAGE.DURATION</th>\n",
       "      <th>POPULATION</th>\n",
       "      <th>SEVERE_OUTAGE</th>\n",
       "    </tr>\n",
       "  </thead>\n",
       "  <tbody>\n",
       "    <tr>\n",
       "      <td>0</td>\n",
       "      <td>2011</td>\n",
       "      <td>7</td>\n",
       "      <td>Minnesota</td>\n",
       "      <td>severe weather</td>\n",
       "      <td>70000.000000</td>\n",
       "      <td>3060.0</td>\n",
       "      <td>5348119</td>\n",
       "      <td>True</td>\n",
       "    </tr>\n",
       "    <tr>\n",
       "      <td>1</td>\n",
       "      <td>2014</td>\n",
       "      <td>5</td>\n",
       "      <td>Minnesota</td>\n",
       "      <td>intentional attack</td>\n",
       "      <td>88984.965517</td>\n",
       "      <td>1.0</td>\n",
       "      <td>5457125</td>\n",
       "      <td>False</td>\n",
       "    </tr>\n",
       "    <tr>\n",
       "      <td>2</td>\n",
       "      <td>2010</td>\n",
       "      <td>10</td>\n",
       "      <td>Minnesota</td>\n",
       "      <td>severe weather</td>\n",
       "      <td>70000.000000</td>\n",
       "      <td>3000.0</td>\n",
       "      <td>5310903</td>\n",
       "      <td>True</td>\n",
       "    </tr>\n",
       "    <tr>\n",
       "      <td>3</td>\n",
       "      <td>2012</td>\n",
       "      <td>6</td>\n",
       "      <td>Minnesota</td>\n",
       "      <td>severe weather</td>\n",
       "      <td>68200.000000</td>\n",
       "      <td>2550.0</td>\n",
       "      <td>5380443</td>\n",
       "      <td>True</td>\n",
       "    </tr>\n",
       "    <tr>\n",
       "      <td>4</td>\n",
       "      <td>2015</td>\n",
       "      <td>7</td>\n",
       "      <td>Minnesota</td>\n",
       "      <td>severe weather</td>\n",
       "      <td>250000.000000</td>\n",
       "      <td>1740.0</td>\n",
       "      <td>5489594</td>\n",
       "      <td>True</td>\n",
       "    </tr>\n",
       "    <tr>\n",
       "      <td>...</td>\n",
       "      <td>...</td>\n",
       "      <td>...</td>\n",
       "      <td>...</td>\n",
       "      <td>...</td>\n",
       "      <td>...</td>\n",
       "      <td>...</td>\n",
       "      <td>...</td>\n",
       "      <td>...</td>\n",
       "    </tr>\n",
       "    <tr>\n",
       "      <td>1470</td>\n",
       "      <td>2016</td>\n",
       "      <td>3</td>\n",
       "      <td>Idaho</td>\n",
       "      <td>intentional attack</td>\n",
       "      <td>0.000000</td>\n",
       "      <td>0.0</td>\n",
       "      <td>1680026</td>\n",
       "      <td>False</td>\n",
       "    </tr>\n",
       "    <tr>\n",
       "      <td>1471</td>\n",
       "      <td>2016</td>\n",
       "      <td>7</td>\n",
       "      <td>Idaho</td>\n",
       "      <td>system operability disruption</td>\n",
       "      <td>133833.065306</td>\n",
       "      <td>220.0</td>\n",
       "      <td>1680026</td>\n",
       "      <td>True</td>\n",
       "    </tr>\n",
       "    <tr>\n",
       "      <td>1472</td>\n",
       "      <td>2011</td>\n",
       "      <td>12</td>\n",
       "      <td>North Dakota</td>\n",
       "      <td>public appeal</td>\n",
       "      <td>34500.000000</td>\n",
       "      <td>720.0</td>\n",
       "      <td>685326</td>\n",
       "      <td>True</td>\n",
       "    </tr>\n",
       "    <tr>\n",
       "      <td>1473</td>\n",
       "      <td>2009</td>\n",
       "      <td>8</td>\n",
       "      <td>South Dakota</td>\n",
       "      <td>islanding</td>\n",
       "      <td>127894.232092</td>\n",
       "      <td>59.0</td>\n",
       "      <td>807067</td>\n",
       "      <td>False</td>\n",
       "    </tr>\n",
       "    <tr>\n",
       "      <td>1474</td>\n",
       "      <td>2009</td>\n",
       "      <td>8</td>\n",
       "      <td>South Dakota</td>\n",
       "      <td>islanding</td>\n",
       "      <td>88984.965517</td>\n",
       "      <td>181.0</td>\n",
       "      <td>807067</td>\n",
       "      <td>True</td>\n",
       "    </tr>\n",
       "  </tbody>\n",
       "</table>\n",
       "<p>1475 rows × 8 columns</p>\n",
       "</div>"
      ],
      "text/plain": [
       "      YEAR MONTH    U.S._STATE                 CAUSE.CATEGORY  \\\n",
       "0     2011     7     Minnesota                 severe weather   \n",
       "1     2014     5     Minnesota             intentional attack   \n",
       "2     2010    10     Minnesota                 severe weather   \n",
       "3     2012     6     Minnesota                 severe weather   \n",
       "4     2015     7     Minnesota                 severe weather   \n",
       "...    ...   ...           ...                            ...   \n",
       "1470  2016     3         Idaho             intentional attack   \n",
       "1471  2016     7         Idaho  system operability disruption   \n",
       "1472  2011    12  North Dakota                  public appeal   \n",
       "1473  2009     8  South Dakota                      islanding   \n",
       "1474  2009     8  South Dakota                      islanding   \n",
       "\n",
       "      CUSTOMERS.AFFECTED  OUTAGE.DURATION POPULATION  SEVERE_OUTAGE  \n",
       "0           70000.000000           3060.0    5348119           True  \n",
       "1           88984.965517              1.0    5457125          False  \n",
       "2           70000.000000           3000.0    5310903           True  \n",
       "3           68200.000000           2550.0    5380443           True  \n",
       "4          250000.000000           1740.0    5489594           True  \n",
       "...                  ...              ...        ...            ...  \n",
       "1470            0.000000              0.0    1680026          False  \n",
       "1471       133833.065306            220.0    1680026           True  \n",
       "1472        34500.000000            720.0     685326           True  \n",
       "1473       127894.232092             59.0     807067          False  \n",
       "1474        88984.965517            181.0     807067           True  \n",
       "\n",
       "[1475 rows x 8 columns]"
      ]
     },
     "execution_count": 66,
     "metadata": {},
     "output_type": "execute_result"
    }
   ],
   "source": [
    "outages_for_model"
   ]
  },
  {
   "cell_type": "markdown",
   "metadata": {},
   "source": [
    "This helper is for seperating the causes into two category of human caused which is True and nature caused which is False. By doing this we can see if there is a correlation with what caused the outage and what kind of outage happened."
   ]
  },
  {
   "cell_type": "code",
   "execution_count": 67,
   "metadata": {},
   "outputs": [],
   "source": [
    "def n_cause(x):\n",
    "    if x == \"severe weather\":\n",
    "        return False\n",
    "    else:\n",
    "        return True"
   ]
  },
  {
   "cell_type": "markdown",
   "metadata": {},
   "source": [
    "This helper is seperating the months into the different seasons, we what to use this to find if major outages have anything to do with what season we are in at the time."
   ]
  },
  {
   "cell_type": "code",
   "execution_count": 68,
   "metadata": {},
   "outputs": [],
   "source": [
    "def season_transform(x):\n",
    "    if (x == 12) | (x == 1) | (x == 2):\n",
    "        return \"Winter\"\n",
    "    if (x == 3) | (x == 4) | (x == 5):\n",
    "        return \"Spring\"\n",
    "    if (x == 6) | (x == 7) | (x == 8):\n",
    "        return \"Summer\"\n",
    "    else:\n",
    "        return \"Fall\""
   ]
  },
  {
   "cell_type": "code",
   "execution_count": 69,
   "metadata": {},
   "outputs": [],
   "source": [
    "final_score = []\n",
    "for i in range(100):\n",
    "    \n",
    "    pl_season = Pipeline(steps=[\n",
    "        (\"t_season\", FunctionTransformer(lambda x: pd.DataFrame(np.apply_along_axis(season_transform, 1, x)))), \n",
    "        (\"t_one_hot\", OneHotEncoder(handle_unknown = 'ignore'))\n",
    "    ])\n",
    "    \n",
    "    pl_cause = Pipeline(steps=[\n",
    "        (\"t_cause\", FunctionTransformer(lambda x: pd.DataFrame(x['CAUSE.CATEGORY'].apply(n_cause)), validate = False)), \n",
    "        (\"t_one_hot\", OneHotEncoder(handle_unknown = 'ignore'))\n",
    "    ])\n",
    "    \n",
    "    preproc = ColumnTransformer(transformers=[(\"seasons_t\", pl_season, [\"MONTH\"]),\n",
    "                                              (\"causes\", pl_cause, [\"CAUSE.CATEGORY\"]),\n",
    "                                              ('encode', OneHotEncoder(handle_unknown = 'ignore'),['U.S._STATE','YEAR',\"CAUSE.CATEGORY\"]),\n",
    "                                              ('qt', QuantileTransformer(), ['OUTAGE.DURATION',\"POPULATION\"]),\n",
    "                                              (\"b_trans\", Binarizer(threshold=1000), [\"CUSTOMERS.AFFECTED\"])\n",
    "                                             ])\n",
    "\n",
    "    pl = Pipeline(steps = [('preprocessor',preproc), \n",
    "                           ('baseline classification', LinearSVC())])\n",
    "\n",
    "    X = outages_for_model.drop(['SEVERE_OUTAGE'], axis = 1)\n",
    "    y = outages_for_model.SEVERE_OUTAGE\n",
    "    X_train, X_test, y_train, y_test = train_test_split(X, y, test_size=0.3)\n",
    "    pl.fit(X_train, y_train)\n",
    "    final_score.append(pl.score(X_test, y_test))"
   ]
  },
  {
   "cell_type": "code",
   "execution_count": 71,
   "metadata": {},
   "outputs": [],
   "source": [
    "Gsearch = pd.DataFrame(pl[\"preprocessor\"].fit(X,y).transform(X).toarray())"
   ]
  },
  {
   "cell_type": "code",
   "execution_count": 72,
   "metadata": {},
   "outputs": [
    {
     "name": "stdout",
     "output_type": "stream",
     "text": [
      "Fitting 5 folds for each of 5 candidates, totalling 25 fits\n",
      "[CV] C=0.1 ...........................................................\n",
      "[CV] ............................................ C=0.1, total=   0.0s\n",
      "[CV] C=0.1 ...........................................................\n",
      "[CV] ............................................ C=0.1, total=   0.0s\n",
      "[CV] C=0.1 ...........................................................\n",
      "[CV] ............................................ C=0.1, total=   0.0s\n",
      "[CV] C=0.1 ...........................................................\n",
      "[CV] ............................................ C=0.1, total=   0.0s\n",
      "[CV] C=0.1 ...........................................................\n",
      "[CV] ............................................ C=0.1, total=   0.0s\n",
      "[CV] C=1 .............................................................\n",
      "[CV] .............................................. C=1, total=   0.0s\n",
      "[CV] C=1 .............................................................\n",
      "[CV] .............................................. C=1, total=   0.0s\n",
      "[CV] C=1 .............................................................\n",
      "[CV] .............................................. C=1, total=   0.0s\n",
      "[CV] C=1 .............................................................\n",
      "[CV] .............................................. C=1, total=   0.0s\n",
      "[CV] C=1 .............................................................\n",
      "[CV] .............................................. C=1, total=   0.0s\n",
      "[CV] C=10 ............................................................\n",
      "[CV] ............................................. C=10, total=   0.0s\n",
      "[CV] C=10 ............................................................\n",
      "[CV] ............................................. C=10, total=   0.0s\n",
      "[CV] C=10 ............................................................\n",
      "[CV] ............................................. C=10, total=   0.0s\n",
      "[CV] C=10 ............................................................\n",
      "[CV] ............................................. C=10, total=   0.0s\n",
      "[CV] C=10 ............................................................\n",
      "[CV] ............................................. C=10, total=   0.0s"
     ]
    },
    {
     "name": "stderr",
     "output_type": "stream",
     "text": [
      "[Parallel(n_jobs=1)]: Using backend SequentialBackend with 1 concurrent workers.\n",
      "[Parallel(n_jobs=1)]: Done   1 out of   1 | elapsed:    0.0s remaining:    0.0s\n"
     ]
    },
    {
     "name": "stdout",
     "output_type": "stream",
     "text": [
      "\n",
      "[CV] C=100 ...........................................................\n",
      "[CV] ............................................ C=100, total=   0.0s\n",
      "[CV] C=100 ...........................................................\n",
      "[CV] ............................................ C=100, total=   0.0s\n",
      "[CV] C=100 ...........................................................\n",
      "[CV] ............................................ C=100, total=   0.0s\n",
      "[CV] C=100 ...........................................................\n",
      "[CV] ............................................ C=100, total=   0.0s\n",
      "[CV] C=100 ...........................................................\n",
      "[CV] ............................................ C=100, total=   0.0s\n",
      "[CV] C=1000 ..........................................................\n",
      "[CV] ........................................... C=1000, total=   0.0s\n",
      "[CV] C=1000 ..........................................................\n",
      "[CV] ........................................... C=1000, total=   0.0s\n",
      "[CV] C=1000 ..........................................................\n",
      "[CV] ........................................... C=1000, total=   0.0s\n",
      "[CV] C=1000 ..........................................................\n",
      "[CV] ........................................... C=1000, total=   0.0s\n",
      "[CV] C=1000 ..........................................................\n",
      "[CV] ........................................... C=1000, total=   0.0s\n"
     ]
    },
    {
     "name": "stderr",
     "output_type": "stream",
     "text": [
      "[Parallel(n_jobs=1)]: Done  25 out of  25 | elapsed:    0.2s finished\n"
     ]
    },
    {
     "data": {
      "text/plain": [
       "GridSearchCV(cv=5, error_score='raise-deprecating',\n",
       "             estimator=LinearSVC(C=1.0, class_weight=None, dual=True,\n",
       "                                 fit_intercept=True, intercept_scaling=1,\n",
       "                                 loss='squared_hinge', max_iter=1000,\n",
       "                                 multi_class='ovr', penalty='l2',\n",
       "                                 random_state=None, tol=0.0001, verbose=0),\n",
       "             iid='warn', n_jobs=None, param_grid={'C': [0.1, 1, 10, 100, 1000]},\n",
       "             pre_dispatch='2*n_jobs', refit=True, return_train_score=False,\n",
       "             scoring=None, verbose=2)"
      ]
     },
     "execution_count": 72,
     "metadata": {},
     "output_type": "execute_result"
    }
   ],
   "source": [
    "from sklearn.model_selection import GridSearchCV \n",
    "  \n",
    "# defining parameter range \n",
    "X_train, X_test, y_train, y_test = train_test_split(Gsearch, y, test_size=0.3)\n",
    "param_grid = {'C': [0.1, 1, 10, 100, 1000]\n",
    "              }  \n",
    "  \n",
    "grid = GridSearchCV(LinearSVC(), param_grid, cv = 5, verbose = 2)\n",
    "  \n",
    "# fitting the model for grid search \n",
    "grid.fit(X_train, y_train) "
   ]
  },
  {
   "cell_type": "code",
   "execution_count": 73,
   "metadata": {},
   "outputs": [
    {
     "data": {
      "text/plain": [
       "LinearSVC(C=100, class_weight=None, dual=True, fit_intercept=True,\n",
       "          intercept_scaling=1, loss='squared_hinge', max_iter=1000,\n",
       "          multi_class='ovr', penalty='l2', random_state=None, tol=0.0001,\n",
       "          verbose=0)"
      ]
     },
     "execution_count": 73,
     "metadata": {},
     "output_type": "execute_result"
    }
   ],
   "source": [
    "grid.best_estimator_"
   ]
  },
  {
   "cell_type": "markdown",
   "metadata": {},
   "source": [
    "With our final model and all the improvements, through 100 iterations most of the accuracy score is greater than 94 percent"
   ]
  },
  {
   "cell_type": "code",
   "execution_count": 74,
   "metadata": {},
   "outputs": [
    {
     "data": {
      "text/plain": [
       "0.77"
      ]
     },
     "execution_count": 74,
     "metadata": {},
     "output_type": "execute_result"
    }
   ],
   "source": [
    "(pd.Series(final_score) > 0.94).mean()"
   ]
  },
  {
   "cell_type": "markdown",
   "metadata": {},
   "source": [
    "The predicitons of the final model is better than the basic model 100% of the time."
   ]
  },
  {
   "cell_type": "code",
   "execution_count": 75,
   "metadata": {},
   "outputs": [
    {
     "data": {
      "text/plain": [
       "100"
      ]
     },
     "execution_count": 75,
     "metadata": {},
     "output_type": "execute_result"
    }
   ],
   "source": [
    "(pd.Series(basic_score) < pd.Series(final_score)).sum()"
   ]
  },
  {
   "cell_type": "markdown",
   "metadata": {},
   "source": [
    "### Fairness Evaluation\n"
   ]
  },
  {
   "cell_type": "markdown",
   "metadata": {},
   "source": [
    "We utlized linearSVC.score as our parity measure because it return the mean accuracy on the given test data and labels"
   ]
  },
  {
   "cell_type": "markdown",
   "metadata": {},
   "source": [
    "The accuracy score for years between 2000 to 2011"
   ]
  },
  {
   "cell_type": "code",
   "execution_count": 76,
   "metadata": {},
   "outputs": [
    {
     "data": {
      "text/plain": [
       "0.9626865671641791"
      ]
     },
     "execution_count": 76,
     "metadata": {},
     "output_type": "execute_result"
    }
   ],
   "source": [
    "outages_2000_2011 = outages_for_model[(outages_for_model[\"YEAR\"] < 2012)]\n",
    "pl_season = Pipeline(steps=[\n",
    "        (\"t_season\", FunctionTransformer(lambda x: pd.DataFrame(np.apply_along_axis(season_transform, 1, x)))), \n",
    "        (\"t_one_hot\", OneHotEncoder(handle_unknown = 'ignore'))\n",
    "    ])\n",
    "    \n",
    "pl_cause = Pipeline(steps=[\n",
    "        (\"t_cause\", FunctionTransformer(lambda x: pd.DataFrame(x['CAUSE.CATEGORY'].apply(n_cause)), validate = False)), \n",
    "        (\"t_one_hot\", OneHotEncoder(handle_unknown = 'ignore'))\n",
    "    ])\n",
    "    \n",
    "preproc = ColumnTransformer(transformers=[(\"seasons_t\", pl_season, [\"MONTH\"]),\n",
    "                                              (\"causes\", pl_cause, [\"CAUSE.CATEGORY\"]),\n",
    "                                              ('encode', OneHotEncoder(handle_unknown = 'ignore'),['U.S._STATE','YEAR',\"CAUSE.CATEGORY\"]),\n",
    "                                              ('qt', QuantileTransformer(), ['OUTAGE.DURATION',\"POPULATION\"]),\n",
    "                                              (\"b_trans\", Binarizer(threshold=1000), [\"CUSTOMERS.AFFECTED\"])\n",
    "                                             ])\n",
    "\n",
    "pl = Pipeline(steps = [('preprocessor',preproc), \n",
    "                       ('baseline classification', LinearSVC())])\n",
    "\n",
    "X = outages_2000_2011.drop(['SEVERE_OUTAGE'], axis = 1)\n",
    "y = outages_2000_2011.SEVERE_OUTAGE\n",
    "X_train, X_test, y_train, y_test = train_test_split(X, y, test_size=0.3)\n",
    "pl.fit(X_train, y_train)\n",
    "outages_2000_2011_obs = pl.score(X_test, y_test)\n",
    "\n",
    "outages_2000_2011_obs"
   ]
  },
  {
   "cell_type": "markdown",
   "metadata": {},
   "source": [
    "Then we found the accuracy score for years between 2012 to 2016"
   ]
  },
  {
   "cell_type": "code",
   "execution_count": 84,
   "metadata": {},
   "outputs": [
    {
     "data": {
      "text/plain": [
       "0.9314285714285714"
      ]
     },
     "execution_count": 84,
     "metadata": {},
     "output_type": "execute_result"
    }
   ],
   "source": [
    "outages_2012_2016 = outages_for_model[(outages_for_model[\"YEAR\"] >= 2012)]\n",
    "pl_season = Pipeline(steps=[\n",
    "        (\"t_season\", FunctionTransformer(lambda x: pd.DataFrame(np.apply_along_axis(season_transform, 1, x)))), \n",
    "        (\"t_one_hot\", OneHotEncoder(handle_unknown = 'ignore'))\n",
    "    ])\n",
    "    \n",
    "pl_cause = Pipeline(steps=[\n",
    "        (\"t_cause\", FunctionTransformer(lambda x: pd.DataFrame(x['CAUSE.CATEGORY'].apply(n_cause)), validate = False)), \n",
    "        (\"t_one_hot\", OneHotEncoder(handle_unknown = 'ignore'))\n",
    "    ])\n",
    "    \n",
    "preproc = ColumnTransformer(transformers=[(\"seasons_t\", pl_season, [\"MONTH\"]),\n",
    "                                              (\"causes\", pl_cause, [\"CAUSE.CATEGORY\"]),\n",
    "                                              ('encode', OneHotEncoder(handle_unknown = 'ignore'),['U.S._STATE','YEAR',\"CAUSE.CATEGORY\"]),\n",
    "                                              ('qt', QuantileTransformer(), ['OUTAGE.DURATION',\"POPULATION\"]),\n",
    "                                              (\"b_trans\", Binarizer(threshold=1000), [\"CUSTOMERS.AFFECTED\"])\n",
    "                                             ])\n",
    "\n",
    "pl = Pipeline(steps = [('preprocessor',preproc), \n",
    "                       ('baseline classification', LinearSVC())])\n",
    "\n",
    "X = outages_2012_2016.drop(['SEVERE_OUTAGE'], axis = 1)\n",
    "y = outages_2012_2016.SEVERE_OUTAGE\n",
    "X_train, X_test, y_train, y_test = train_test_split(X, y, test_size=0.3)\n",
    "pl.fit(X_train, y_train)\n",
    "outages_2012_2016_obs = pl.score(X_test, y_test)\n",
    "outages_2012_2016_obs"
   ]
  },
  {
   "cell_type": "markdown",
   "metadata": {},
   "source": [
    "We took the difference of the accuracy score before and after 2011 as diff_acc_between_two_groups"
   ]
  },
  {
   "cell_type": "code",
   "execution_count": 85,
   "metadata": {},
   "outputs": [
    {
     "data": {
      "text/plain": [
       "-0.031257995735607724"
      ]
     },
     "execution_count": 85,
     "metadata": {},
     "output_type": "execute_result"
    }
   ],
   "source": [
    "diff_acc_between_two_groups = (outages_2012_2016_obs - outages_2000_2011_obs)\n",
    "diff_acc_between_two_groups"
   ]
  },
  {
   "cell_type": "markdown",
   "metadata": {},
   "source": [
    "We found the accuracy score of the shuffled 2000 to 2011"
   ]
  },
  {
   "cell_type": "code",
   "execution_count": 86,
   "metadata": {},
   "outputs": [],
   "source": [
    "shuffled_2000_2011_score = []\n",
    "for i in range(100):\n",
    "    outages_shuffled = outages_for_model.copy()\n",
    "    outages_2000_2011_shuffled = outages_shuffled[(outages_for_model[\"YEAR\"] < 2012)].reset_index(drop=True)\n",
    "    outages_2000_2011_shuffled['CUSTOMERS.AFFECTED'] = outages_2000_2011_shuffled['CUSTOMERS.AFFECTED'].sample(n = outages_2000_2011_shuffled.shape[0]).reset_index(drop = True)\n",
    "    preproc = ColumnTransformer(transformers=[\n",
    "                                              ('encode', OneHotEncoder(handle_unknown = 'ignore'),['U.S._STATE','YEAR']),\n",
    "                                              ('qt', QuantileTransformer(), ['OUTAGE.DURATION',\"POPULATION\"]),\n",
    "                                              (\"b_trans\", Binarizer(threshold=1000), [\"CUSTOMERS.AFFECTED\"])\n",
    "                                             ])\n",
    "\n",
    "    pl = Pipeline(steps = [('preprocessor',preproc), \n",
    "                           ('baseline classification', LinearSVC())])\n",
    "\n",
    "    X = outages_2000_2011_shuffled.drop(['SEVERE_OUTAGE'], axis = 1)\n",
    "    y = outages_2000_2011_shuffled.SEVERE_OUTAGE\n",
    "    X_train, X_test, y_train, y_test = train_test_split(X, y, test_size=0.3)\n",
    "    pl.fit(X_train, y_train)\n",
    "    shuffled_2000_2011_score.append(pl.score(X_test, y_test))"
   ]
  },
  {
   "cell_type": "markdown",
   "metadata": {},
   "source": [
    "We found the accuracy score of the shuffled 2012 to 2016"
   ]
  },
  {
   "cell_type": "code",
   "execution_count": 87,
   "metadata": {},
   "outputs": [],
   "source": [
    "shuffled_2012_2016_score = []\n",
    "for i in range(100):\n",
    "    outages_shuffled = outages_for_model.copy()\n",
    "    outages_2012_2016_shuffled = outages_shuffled[(outages_for_model[\"YEAR\"] >= 2012)].reset_index(drop=True)\n",
    "    outages_2012_2016_shuffled['CUSTOMERS.AFFECTED'] = outages_2012_2016_shuffled['CUSTOMERS.AFFECTED'].sample(n = outages_2012_2016_shuffled.shape[0]).reset_index(drop = True)\n",
    "    preproc = ColumnTransformer(transformers=[\n",
    "                                              ('encode', OneHotEncoder(handle_unknown = 'ignore'),['U.S._STATE','YEAR']),\n",
    "                                              ('qt', QuantileTransformer(), ['OUTAGE.DURATION',\"POPULATION\"]),\n",
    "                                              (\"b_trans\", Binarizer(threshold=1000), [\"CUSTOMERS.AFFECTED\"])\n",
    "                                             ])\n",
    "\n",
    "    pl = Pipeline(steps = [('preprocessor',preproc), \n",
    "                           ('baseline classification', LinearSVC())])\n",
    "\n",
    "    X = outages_2012_2016_shuffled.drop(['SEVERE_OUTAGE'], axis = 1)\n",
    "    y = outages_2012_2016_shuffled.SEVERE_OUTAGE\n",
    "    X_train, X_test, y_train, y_test = train_test_split(X, y, test_size=0.3)\n",
    "    pl.fit(X_train, y_train)\n",
    "    shuffled_2012_2016_score.append(pl.score(X_test, y_test))"
   ]
  },
  {
   "cell_type": "markdown",
   "metadata": {},
   "source": [
    "We plot the distribution of the shuffled to see which direction the comparison should be"
   ]
  },
  {
   "cell_type": "code",
   "execution_count": 88,
   "metadata": {},
   "outputs": [
    {
     "data": {
      "text/plain": [
       "<matplotlib.collections.PathCollection at 0x1e67b3d3d08>"
      ]
     },
     "execution_count": 88,
     "metadata": {},
     "output_type": "execute_result"
    },
    {
     "data": {
      "image/png": "[encoded data removed]",
      "text/plain": [
       "<Figure size 432x288 with 1 Axes>"
      ]
     },
     "metadata": {
      "image/png": {
       "height": 263,
       "width": 382
      },
      "needs_background": "light"
     },
     "output_type": "display_data"
    }
   ],
   "source": [
    "diff_acc_between_two_groups_shuff = (pd.Series(shuffled_2012_2016_score) - pd.Series(shuffled_2000_2011_score))\n",
    "diff_acc_between_two_groups_shuff.plot(kind = 'hist', title = 'Permutation test of difference of two groups')\n",
    "plt.scatter(diff_acc_between_two_groups, 0, c = 'r')"
   ]
  },
  {
   "cell_type": "code",
   "execution_count": 89,
   "metadata": {},
   "outputs": [
    {
     "data": {
      "text/plain": [
       "0.4"
      ]
     },
     "execution_count": 89,
     "metadata": {},
     "output_type": "execute_result"
    }
   ],
   "source": [
    "(diff_acc_between_two_groups_shuff <= diff_acc_between_two_groups).mean()"
   ]
  },
  {
   "cell_type": "markdown",
   "metadata": {},
   "source": [
    " Fail to reject the model is fair"
   ]
  },
  {
   "cell_type": "code",
   "execution_count": null,
   "metadata": {},
   "outputs": [],
   "source": []
  }
 ],
 "metadata": {
  "kernelspec": {
   "display_name": "Python 3",
   "language": "python",
   "name": "python3"
  },
  "language_info": {
   "codemirror_mode": {
    "name": "ipython",
    "version": 3
   },
   "file_extension": ".py",
   "mimetype": "text/x-python",
   "name": "python",
   "nbconvert_exporter": "python",
   "pygments_lexer": "ipython3",
   "version": "3.7.4"
  }
 },
 "nbformat": 4,
 "nbformat_minor": 2
}
